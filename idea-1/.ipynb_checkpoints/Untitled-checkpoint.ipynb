{
 "cells": [
  {
   "cell_type": "code",
   "execution_count": null,
   "id": "5c509ec7",
   "metadata": {},
   "outputs": [],
   "source": [
    "from scipy.stats.distributions import uniform\n",
    "import numpy as np\n",
    "from pyDOE import *\n",
    "np.random.seed(42)\n",
    "\n",
    "def ishigami(x,a=5,b=0.1):\n",
    "    return np.sin(x[0])+a*np.sin(x[1])**2+b*np.sin(x[0])*x[2]**4\n",
    "\n",
    "lower_bounds = [-3.14, -3.14, -3.14]\n",
    "upper_bounds = [3.14, 3.14, 3.14]\n",
    "\n",
    "n_samples = 1000\n",
    "samples = lhs(len(lower_bounds), samples=n_samples)\n",
    "\n",
    "#Latin Hypercube Sampling of means\n",
    "for i in range(len(lower_bounds)):\n",
    "    samples[:, i] = uniform(loc=lower_bounds[i], scale=np.subtract(\n",
    "        upper_bounds[i], lower_bounds[i])).ppf(samples[:, i])\n",
    "\n",
    "results = []\n",
    "for sample in samples:\n",
    "    results.append(ishigami(sample))"
   ]
  },
  {
   "cell_type": "code",
   "execution_count": null,
   "id": "c5cb676e",
   "metadata": {},
   "outputs": [],
   "source": [
    "import matplotlib.pyplot as plt\n",
    "\n",
    "plt.scatter(samples[:,0],results)\n",
    "plt.xlabel('x1')\n",
    "plt.ylabel('y')\n",
    "plt.show()\n",
    "plt.scatter(samples[:,1],results)\n",
    "plt.xlabel('x2')\n",
    "plt.ylabel('y')\n",
    "plt.show()\n",
    "plt.scatter(samples[:, 2], results)\n",
    "plt.xlabel('x3')\n",
    "plt.ylabel('y')\n",
    "plt.show()"
   ]
  }
 ],
 "metadata": {
  "kernelspec": {
   "display_name": "Python 3",
   "language": "python",
   "name": "python3"
  },
  "language_info": {
   "codemirror_mode": {
    "name": "ipython",
    "version": 3
   },
   "file_extension": ".py",
   "mimetype": "text/x-python",
   "name": "python",
   "nbconvert_exporter": "python",
   "pygments_lexer": "ipython3",
   "version": "3.6.9"
  }
 },
 "nbformat": 4,
 "nbformat_minor": 5
}
